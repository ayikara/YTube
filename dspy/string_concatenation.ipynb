{
 "cells": [
  {
   "cell_type": "markdown",
   "metadata": {},
   "source": [
    "# String Column Concatenation\n",
    "\n",
    "This notebook demonstrates how to concatenate two string columns in a pandas DataFrame, handling cases where the second column might be empty or contain NaN values."
   ]
  },
  {
   "cell_type": "code",
   "execution_count": null,
   "metadata": {},
   "outputs": [],
   "source": [
    "import pandas as pd\n",
    "import numpy as np"
   ]
  },
  {
   "cell_type": "markdown",
   "metadata": {},
   "source": [
    "## 1. Create Sample Data"
   ]
  },
  {
   "cell_type": "code",
   "execution_count": null,
   "metadata": {},
   "outputs": [],
   "source": [
    "# Create sample dataframe with string columns where second column might be empty\n",
    "sample_data = {\n",
    "    'first_column': ['Apple', 'Banana', 'Cherry', 'Date', 'Elderberry'],\n",
    "    'second_column': ['Red', '', 'Sweet', None, 'Purple'],  # Empty string and None values\n",
    "    'other_data': [1, 2, 3, 4, 5]\n",
    "}\n",
    "\n",
    "df = pd.DataFrame(sample_data)\n",
    "\n",
    "print(\"Original DataFrame:\")\n",
    "print(df)\n",
    "print(f\"\\nDataFrame shape: {df.shape}\")\n",
    "print(f\"Data types:\\n{df.dtypes}\")"
   ]
  },
  {
   "cell_type": "code",
   "execution_count": null,
   "metadata": {},
   "outputs": [],
   "source": [
    "# Check for empty and null values in the second column\n",
    "print(\"Analysis of second_column:\")\n",
    "print(f\"Null values: {df['second_column'].isnull().sum()}\")\n",
    "print(f\"Empty strings: {(df['second_column'] == '').sum()}\")\n",
    "print(f\"Non-empty, non-null values: {((df['second_column'] != '') & df['second_column'].notna()).sum()}\")\n",
    "\n",
    "print(\"\\nUnique values in second_column:\")\n",
    "print(df['second_column'].value_counts(dropna=False))"
   ]
  },
  {
   "cell_type": "markdown",
   "metadata": {},
   "source": [
    "## 2. Method 1: Simple Concatenation (Basic)"
   ]
  },
  {
   "cell_type": "code",
   "execution_count": null,
   "metadata": {},
   "outputs": [],
   "source": [
    "# Simple concatenation - this will include empty strings and convert NaN to 'nan'\n",
    "df_method1 = df.copy()\n",
    "df_method1['concatenated_basic'] = df_method1['first_column'] + df_method1['second_column']\n",
    "\n",
    "print(\"Method 1 - Simple Concatenation:\")\n",
    "print(df_method1[['first_column', 'second_column', 'concatenated_basic']])"
   ]
  },
  {
   "cell_type": "markdown",
   "metadata": {},
   "source": [
    "## 3. Method 2: Concatenation with Space Separator"
   ]
  },
  {
   "cell_type": "code",
   "execution_count": null,
   "metadata": {},
   "outputs": [],
   "source": [
    "# Concatenation with space separator - handles NaN but not empty strings well\n",
    "df_method2 = df.copy()\n",
    "df_method2['concatenated_space'] = df_method2['first_column'] + ' ' + df_method2['second_column']\n",
    "\n",
    "print(\"Method 2 - With Space Separator:\")\n",
    "print(df_method2[['first_column', 'second_column', 'concatenated_space']])"
   ]
  },
  {
   "cell_type": "markdown",
   "metadata": {},
   "source": [
    "## 4. Method 3: Smart Concatenation (Recommended)"
   ]
  },
  {
   "cell_type": "code",
   "execution_count": null,
   "metadata": {},
   "outputs": [],
   "source": [
    "# Smart concatenation that handles empty strings and NaN values properly\n",
    "def smart_concatenate(row, separator=' '):\n",
    "    \"\"\"\n",
    "    Concatenate two columns intelligently:\n",
    "    - If second column is empty or NaN, return only first column\n",
    "    - Otherwise, concatenate with separator\n",
    "    \"\"\"\n",
    "    first = str(row['first_column']) if pd.notna(row['first_column']) else ''\n",
    "    second = str(row['second_column']) if pd.notna(row['second_column']) and row['second_column'] != '' else ''\n",
    "    \n",
    "    if second:\n",
    "        return first + separator + second\n",
    "    else:\n",
    "        return first\n",
    "\n",
    "df_method3 = df.copy()\n",
    "df_method3['concatenated_smart'] = df_method3.apply(smart_concatenate, axis=1)\n",
    "\n",
    "print(\"Method 3 - Smart Concatenation:\")\n",
    "print(df_method3[['first_column', 'second_column', 'concatenated_smart']])"
   ]
  },
  {
   "cell_type": "markdown",
   "metadata": {},
   "source": [
    "## 5. Method 4: Using str.cat() with Proper Handling"
   ]
  },
  {
   "cell_type": "code",
   "execution_count": null,
   "metadata": {},
   "outputs": [],
   "source": [
    "# Using str.cat() method with proper handling of empty values\n",
    "df_method4 = df.copy()\n",
    "\n",
    "# First, replace empty strings with NaN for consistent handling\n",
    "df_method4['second_column_clean'] = df_method4['second_column'].replace('', np.nan)\n",
    "\n",
    "# Use str.cat() with na_rep='' to handle NaN values\n",
    "df_method4['concatenated_str_cat'] = df_method4['first_column'].str.cat(\n",
    "    df_method4['second_column_clean'], \n",
    "    sep=' ', \n",
    "    na_rep=''\n",
    ").str.strip()  # Remove trailing spaces\n",
    "\n",
    "print(\"Method 4 - Using str.cat():\")\n",
    "print(df_method4[['first_column', 'second_column', 'concatenated_str_cat']])"
   ]
  },
  {
   "cell_type": "markdown",
   "metadata": {},
   "source": [
    "## 6. Method 5: Vectorized Approach (Fast for Large DataFrames)"
   ]
  },
  {
   "cell_type": "code",
   "execution_count": null,
   "metadata": {},
   "outputs": [],
   "source": [
    "# Vectorized approach using numpy.where for better performance\n",
    "df_method5 = df.copy()\n",
    "\n",
    "# Create conditions\n",
    "second_is_empty = (df_method5['second_column'].isna()) | (df_method5['second_column'] == '')\n",
    "\n",
    "# Use np.where for conditional concatenation\n",
    "df_method5['concatenated_vectorized'] = np.where(\n",
    "    second_is_empty,\n",
    "    df_method5['first_column'],  # If second is empty, use only first\n",
    "    df_method5['first_column'] + ' ' + df_method5['second_column']  # Otherwise concatenate\n",
    ")\n",
    "\n",
    "print(\"Method 5 - Vectorized Approach:\")\n",
    "print(df_method5[['first_column', 'second_column', 'concatenated_vectorized']])"
   ]
  },
  {
   "cell_type": "markdown",
   "metadata": {},
   "source": [
    "## 7. Compare All Methods"
   ]
  },
  {
   "cell_type": "code",
   "execution_count": null,
   "metadata": {},
   "outputs": [],
   "source": [
    "# Create a comparison dataframe\n",
    "comparison_df = pd.DataFrame({\n",
    "    'first_column': df['first_column'],\n",
    "    'second_column': df['second_column'],\n",
    "    'method1_basic': df_method1['concatenated_basic'],\n",
    "    'method2_space': df_method2['concatenated_space'],\n",
    "    'method3_smart': df_method3['concatenated_smart'],\n",
    "    'method4_str_cat': df_method4['concatenated_str_cat'],\n",
    "    'method5_vectorized': df_method5['concatenated_vectorized']\n",
    "})\n",
    "\n",
    "print(\"Comparison of All Methods:\")\n",
    "print(comparison_df)"
   ]
  },
  {
   "cell_type": "markdown",
   "metadata": {},
   "source": [
    "## 8. Recommended Solution for Your Use Case"
   ]
  },
  {
   "cell_type": "code",
   "execution_count": null,
   "metadata": {},
   "outputs": [],
   "source": [
    "# RECOMMENDED: Method 5 (Vectorized) - Fast and handles empty values properly\n",
    "def concatenate_columns_safe(df, col1, col2, new_col_name, separator=' '):\n",
    "    \"\"\"\n",
    "    Safely concatenate two string columns, handling empty and NaN values\n",
    "    \n",
    "    Parameters:\n",
    "    df: pandas DataFrame\n",
    "    col1: name of first column\n",
    "    col2: name of second column  \n",
    "    new_col_name: name for the new concatenated column\n",
    "    separator: string to use between columns (default: space)\n",
    "    \n",
    "    Returns:\n",
    "    DataFrame with new concatenated column\n",
    "    \"\"\"\n",
    "    # Create a copy to avoid modifying original\n",
    "    result_df = df.copy()\n",
    "    \n",
    "    # Check if second column is empty or NaN\n",
    "    second_is_empty = (result_df[col2].isna()) | (result_df[col2] == '')\n",
    "    \n",
    "    # Concatenate conditionally\n",
    "    result_df[new_col_name] = np.where(\n",
    "        second_is_empty,\n",
    "        result_df[col1].astype(str),  # Only first column\n",
    "        result_df[col1].astype(str) + separator + result_df[col2].astype(str)  # Both columns\n",
    "    )\n",
    "    \n",
    "    return result_df\n",
    "\n",
    "# Apply the recommended solution\n",
    "final_df = concatenate_columns_safe(df, 'first_column', 'second_column', 'final_result')\n",
    "\n",
    "print(\"RECOMMENDED SOLUTION:\")\n",
    "print(final_df[['first_column', 'second_column', 'final_result']])"
   ]
  },
  {
   "cell_type": "markdown",
   "metadata": {},
   "source": [
    "## 9. Load Your Own Data"
   ]
  },
  {
   "cell_type": "code",
   "execution_count": null,
   "metadata": {},
   "outputs": [],
   "source": [
    "# Template for loading your own CSV data\n",
    "# Uncomment and modify the following lines to use with your data:\n",
    "\n",
    "# # Load your CSV file\n",
    "# your_df = pd.read_csv('your_file.csv')\n",
    "# \n",
    "# # Check the data\n",
    "# print(\"Your DataFrame:\")\n",
    "# print(your_df.head())\n",
    "# print(f\"\\nColumns: {list(your_df.columns)}\")\n",
    "# \n",
    "# # Apply concatenation (replace 'col1' and 'col2' with your actual column names)\n",
    "# result_df = concatenate_columns_safe(your_df, 'col1', 'col2', 'concatenated_column')\n",
    "# \n",
    "# # Save the result\n",
    "# result_df.to_csv('output_with_concatenated_column.csv', index=False)\n",
    "# print(\"\\nResult saved to: output_with_concatenated_column.csv\")"
   ]
  },
  {
   "cell_type": "markdown",
   "metadata": {},
   "source": [
    "## 10. Performance Test (Optional)"
   ]
  },
  {
   "cell_type": "code",
   "execution_count": null,
   "metadata": {},
   "outputs": [],
   "source": [
    "# Performance test with larger dataset\n",
    "import time\n",
    "\n",
    "# Create larger test dataset\n",
    "large_data = {\n",
    "    'first_column': ['Text' + str(i) for i in range(10000)],\n",
    "    'second_column': ['Suffix' + str(i) if i % 3 != 0 else ('' if i % 6 == 0 else None) for i in range(10000)]\n",
    "}\n",
    "large_df = pd.DataFrame(large_data)\n",
    "\n",
    "print(f\"Testing with {len(large_df)} rows...\")\n",
    "\n",
    "# Test Method 3 (apply)\n",
    "start_time = time.time()\n",
    "result3 = large_df.apply(smart_concatenate, axis=1)\n",
    "time3 = time.time() - start_time\n",
    "\n",
    "# Test Method 5 (vectorized)\n",
    "start_time = time.time()\n",
    "second_is_empty = (large_df['second_column'].isna()) | (large_df['second_column'] == '')\n",
    "result5 = np.where(\n",
    "    second_is_empty,\n",
    "    large_df['first_column'],\n",
    "    large_df['first_column'] + ' ' + large_df['second_column']\n",
    ")\n",
    "time5 = time.time() - start_time\n",
    "\n",
    "print(f\"\\nPerformance Results:\")\n",
    "print(f\"Method 3 (apply): {time3:.4f} seconds\")\n",
    "print(f\"Method 5 (vectorized): {time5:.4f} seconds\")\n",
    "print(f\"Vectorized is {time3/time5:.1f}x faster\")"
   ]
  }
 ],
 "metadata": {
  "kernelspec": {
   "display_name": "Python 3",
   "language": "python",
   "name": "python3"
  },
  "language_info": {
   "codemirror_mode": {
    "name": "ipython",
    "version": 3
   },
   "file_extension": ".py",
   "mimetype": "text/x-python",
   "name": "python",
   "nbconvert_exporter": "python",
   "pygments_lexer": "ipython3",
   "version": "3.8.5"
  }
 },
 "nbformat": 4,
 "nbformat_minor": 4
}
