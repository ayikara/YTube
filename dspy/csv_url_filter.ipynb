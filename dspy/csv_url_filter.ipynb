{
 "cells": [
  {
   "cell_type": "markdown",
   "metadata": {},
   "source": [
    "# CSV URL Filtering Notebook\n",
    "\n",
    "This notebook reads two CSV files:\n",
    "1. First CSV: Contains a single column 'URL' with website URLs\n",
    "2. Second CSV: Contains columns 'run_date', 'pagepath', 'product_name', 'product_group', 'asset'\n",
    "\n",
    "The goal is to filter records from the second CSV where the URL from the first CSV matches the pagepath in the second CSV."
   ]
  },
  {
   "cell_type": "code",
   "execution_count": null,
   "metadata": {},
   "outputs": [],
   "source": [
    "# Import required libraries\n",
    "import pandas as pd\n",
    "import numpy as np\n",
    "from pathlib import Path"
   ]
  },
  {
   "cell_type": "markdown",
   "metadata": {},
   "source": [
    "## 1. Read the CSV Files"
   ]
  },
  {
   "cell_type": "code",
   "execution_count": null,
   "metadata": {},
   "outputs": [],
   "source": [
    "# Define file paths - update these paths to match your actual CSV file locations\n",
    "urls_csv_path = 'data/urls.csv'  # Update this path\n",
    "data_csv_path = 'data/data.csv'  # Update this path\n",
    "\n",
    "# Read the first CSV file (URLs)\n",
    "try:\n",
    "    urls_df = pd.read_csv(urls_csv_path)\n",
    "    print(f\"URLs CSV loaded successfully. Shape: {urls_df.shape}\")\n",
    "    print(f\"Columns: {list(urls_df.columns)}\")\n",
    "    print(\"\\nFirst 5 rows:\")\n",
    "    print(urls_df.head())\n",
    "except FileNotFoundError:\n",
    "    print(f\"Error: Could not find {urls_csv_path}. Please update the file path.\")\n",
    "except Exception as e:\n",
    "    print(f\"Error reading URLs CSV: {e}\")"
   ]
  },
  {
   "cell_type": "code",
   "execution_count": null,
   "metadata": {},
   "outputs": [],
   "source": [
    "# Read the second CSV file (data with pagepath)\n",
    "try:\n",
    "    data_df = pd.read_csv(data_csv_path)\n",
    "    print(f\"Data CSV loaded successfully. Shape: {data_df.shape}\")\n",
    "    print(f\"Columns: {list(data_df.columns)}\")\n",
    "    print(\"\\nFirst 5 rows:\")\n",
    "    print(data_df.head())\n",
    "except FileNotFoundError:\n",
    "    print(f\"Error: Could not find {data_csv_path}. Please update the file path.\")\n",
    "except Exception as e:\n",
    "    print(f\"Error reading data CSV: {e}\")"
   ]
  },
  {
   "cell_type": "markdown",
   "metadata": {},
   "source": [
    "## 2. Data Exploration and Validation"
   ]
  },
  {
   "cell_type": "code",
   "execution_count": null,
   "metadata": {},
   "outputs": [],
   "source": [
    "# Check data types and basic info\n",
    "print(\"URLs DataFrame Info:\")\n",
    "print(urls_df.info())\n",
    "print(\"\\n\" + \"=\"*50 + \"\\n\")\n",
    "print(\"Data DataFrame Info:\")\n",
    "print(data_df.info())"
   ]
  },
  {
   "cell_type": "code",
   "execution_count": null,
   "metadata": {},
   "outputs": [],
   "source": [
    "# Check for null values\n",
    "print(\"Null values in URLs DataFrame:\")\n",
    "print(urls_df.isnull().sum())\n",
    "print(\"\\nNull values in Data DataFrame:\")\n",
    "print(data_df.isnull().sum())"
   ]
  },
  {
   "cell_type": "code",
   "execution_count": null,
   "metadata": {},
   "outputs": [],
   "source": [
    "# Sample URLs and pagepaths to understand the data format\n",
    "print(\"Sample URLs:\")\n",
    "print(urls_df['URL'].head(10).tolist())\n",
    "print(\"\\nSample pagepaths:\")\n",
    "print(data_df['pagepath'].head(10).tolist())"
   ]
  },
  {
   "cell_type": "markdown",
   "metadata": {},
   "source": [
    "## 3. Filter Records Where URL Matches Pagepath"
   ]
  },
  {
   "cell_type": "code",
   "execution_count": null,
   "metadata": {},
   "outputs": [],
   "source": [
    "# Create a set of URLs for efficient lookup\n",
    "url_set = set(urls_df['URL'].dropna())\n",
    "print(f\"Number of unique URLs: {len(url_set)}\")\n",
    "print(f\"Total records in data CSV: {len(data_df)}\")"
   ]
  },
  {
   "cell_type": "code",
   "execution_count": null,
   "metadata": {},
   "outputs": [],
   "source": [
    "# Filter the data DataFrame where pagepath matches any URL\n",
    "filtered_df = data_df[data_df['pagepath'].isin(url_set)]\n",
    "\n",
    "print(f\"Number of matching records: {len(filtered_df)}\")\n",
    "print(f\"Percentage of records that match: {len(filtered_df)/len(data_df)*100:.2f}%\")"
   ]
  },
  {
   "cell_type": "markdown",
   "metadata": {},
   "source": [
    "## 4. Display Results"
   ]
  },
  {
   "cell_type": "code",
   "execution_count": null,
   "metadata": {},
   "outputs": [],
   "source": [
    "# Display the filtered results\n",
    "print(\"Filtered DataFrame (first 10 rows):\")\n",
    "print(filtered_df.head(10))"
   ]
  },
  {
   "cell_type": "code",
   "execution_count": null,
   "metadata": {},
   "outputs": [],
   "source": [
    "# Summary statistics of the filtered data\n",
    "print(\"Summary of filtered data:\")\n",
    "print(f\"Shape: {filtered_df.shape}\")\n",
    "print(f\"\\nUnique values per column:\")\n",
    "for col in filtered_df.columns:\n",
    "    print(f\"{col}: {filtered_df[col].nunique()} unique values\")"
   ]
  },
  {
   "cell_type": "code",
   "execution_count": null,
   "metadata": {},
   "outputs": [],
   "source": [
    "# Group by product_group to see distribution\n",
    "if 'product_group' in filtered_df.columns:\n",
    "    print(\"Distribution by product_group:\")\n",
    "    print(filtered_df['product_group'].value_counts())"
   ]
  },
  {
   "cell_type": "markdown",
   "metadata": {},
   "source": [
    "## 5. Save Filtered Results (Optional)"
   ]
  },
  {
   "cell_type": "code",
   "execution_count": null,
   "metadata": {},
   "outputs": [],
   "source": [
    "# Save the filtered results to a new CSV file\n",
    "output_path = 'data/filtered_results.csv'\n",
    "\n",
    "try:\n",
    "    filtered_df.to_csv(output_path, index=False)\n",
    "    print(f\"Filtered results saved to: {output_path}\")\n",
    "except Exception as e:\n",
    "    print(f\"Error saving file: {e}\")"
   ]
  },
  {
   "cell_type": "markdown",
   "metadata": {},
   "source": [
    "## 6. Additional Analysis (Optional)"
   ]
  },
  {
   "cell_type": "code",
   "execution_count": null,
   "metadata": {},
   "outputs": [],
   "source": [
    "# Find URLs that didn't match any pagepath\n",
    "matched_urls = set(filtered_df['pagepath'].unique())\n",
    "unmatched_urls = url_set - matched_urls\n",
    "\n",
    "print(f\"URLs that didn't match any pagepath: {len(unmatched_urls)}\")\n",
    "if len(unmatched_urls) > 0 and len(unmatched_urls) <= 10:\n",
    "    print(\"Unmatched URLs:\")\n",
    "    for url in list(unmatched_urls)[:10]:\n",
    "        print(f\"  - {url}\")"
   ]
  },
  {
   "cell_type": "code",
   "execution_count": null,
   "metadata": {},
   "outputs": [],
   "source": [
    "# Check for partial matches (if URLs might be substrings of pagepaths or vice versa)\n",
    "print(\"Checking for potential partial matches...\")\n",
    "\n",
    "# This is a more computationally expensive operation, so we'll limit it\n",
    "sample_urls = list(url_set)[:5]  # Check first 5 URLs\n",
    "sample_pagepaths = data_df['pagepath'].dropna().unique()[:100]  # Check first 100 pagepaths\n",
    "\n",
    "partial_matches = []\n",
    "for url in sample_urls:\n",
    "    for pagepath in sample_pagepaths:\n",
    "        if url in str(pagepath) or str(pagepath) in url:\n",
    "            if url != pagepath:  # Exclude exact matches\n",
    "                partial_matches.append((url, pagepath))\n",
    "\n",
    "if partial_matches:\n",
    "    print(f\"Found {len(partial_matches)} potential partial matches (sample):\")\n",
    "    for url, pagepath in partial_matches[:5]:\n",
    "        print(f\"  URL: {url}\")\n",
    "        print(f\"  Pagepath: {pagepath}\")\n",
    "        print(\"  ---\")\n",
    "else:\n",
    "    print(\"No partial matches found in the sample.\")"
   ]
  }
 ],
 "metadata": {
  "kernelspec": {
   "display_name": "Python 3",
   "language": "python",
   "name": "python3"
  },
  "language_info": {
   "codemirror_mode": {
    "name": "ipython",
    "version": 3
   },
   "file_extension": ".py",
   "mimetype": "text/x-python",
   "name": "python",
   "nbconvert_exporter": "python",
   "pygments_lexer": "ipython3",
   "version": "3.8.5"
  }
 },
 "nbformat": 4,
 "nbformat_minor": 4
}
